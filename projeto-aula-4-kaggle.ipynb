{
 "cells": [
  {
   "cell_type": "markdown",
   "id": "9e97bd6e",
   "metadata": {
    "execution": {
     "iopub.execute_input": "2024-03-27T13:23:46.131153Z",
     "iopub.status.busy": "2024-03-27T13:23:46.130440Z",
     "iopub.status.idle": "2024-03-27T13:23:46.138438Z",
     "shell.execute_reply": "2024-03-27T13:23:46.136849Z",
     "shell.execute_reply.started": "2024-03-27T13:23:46.131118Z"
    },
    "papermill": {
     "duration": 0.006715,
     "end_time": "2024-03-29T00:05:10.996433",
     "exception": false,
     "start_time": "2024-03-29T00:05:10.989718",
     "status": "completed"
    },
    "tags": []
   },
   "source": [
    "<hr style=\"height:10px\"> \n",
    " \n",
    "<div class='container2'>\n",
    "\t\t<div>\n",
    "\t\t\t<img src='https://encrypted-tbn0.gstatic.com/images?q=tbn:ANd9GcRboH9cqgEa-RGaq__H7IYZcWHh1PvR4nT_sRUcisHYHQ&s' ALIGN='left' style='width:10em'>\n",
    "\t\t</div>\t\n",
    "\t<div style='padding: 0 7em 2em 12em;'>\n",
    "\t<h1>Laboratório de Inovação e Automação 1 (LIA 1)</h1>\n",
    "\t<div style=\"font-size:12pt;float:left;\"> 2024/1 | 24M34 | Sala 200 CAE</div><br>\n",
    "<br>\n",
    "    <div style=\"font-size:12pt;float:left;\"><b>Projetos de Inteligência Artificial</b>\n",
    "</div>\n",
    "    </div>\n",
    "</div>\n",
    "\n",
    "\n",
    " <hr style=\"height:5px\"> \n",
    "\n",
    "    \n",
    "<h2>Introdução ao Ambiente de Projetos - Python</h2>\n",
    "\n",
    "Notebook desenvolvido por: <a href=\"http://lattes.cnpq.br/1346824250595330\">Prof. Dr. Adriano C. Santana</a>\n",
    "\n",
    " <hr style=\"height:2px\"> "
   ]
  },
  {
   "cell_type": "code",
   "execution_count": 1,
   "id": "97fa36f4",
   "metadata": {
    "execution": {
     "iopub.execute_input": "2024-03-29T00:05:11.011572Z",
     "iopub.status.busy": "2024-03-29T00:05:11.011077Z",
     "iopub.status.idle": "2024-03-29T00:05:11.023107Z",
     "shell.execute_reply": "2024-03-29T00:05:11.021552Z"
    },
    "papermill": {
     "duration": 0.02249,
     "end_time": "2024-03-29T00:05:11.025600",
     "exception": false,
     "start_time": "2024-03-29T00:05:11.003110",
     "status": "completed"
    },
    "tags": []
   },
   "outputs": [
    {
     "name": "stdout",
     "output_type": "stream",
     "text": [
      "A versão em uso é 3.10.13.\n"
     ]
    }
   ],
   "source": [
    "from platform import python_version\n",
    "print(f'A versão em uso é {python_version()}.')"
   ]
  },
  {
   "cell_type": "code",
   "execution_count": 2,
   "id": "313b6d7f",
   "metadata": {
    "execution": {
     "iopub.execute_input": "2024-03-29T00:05:11.040440Z",
     "iopub.status.busy": "2024-03-29T00:05:11.040052Z",
     "iopub.status.idle": "2024-03-29T00:05:11.046602Z",
     "shell.execute_reply": "2024-03-29T00:05:11.045767Z"
    },
    "papermill": {
     "duration": 0.016577,
     "end_time": "2024-03-29T00:05:11.048814",
     "exception": false,
     "start_time": "2024-03-29T00:05:11.032237",
     "status": "completed"
    },
    "tags": []
   },
   "outputs": [
    {
     "data": {
      "text/plain": [
       "'3.10.13'"
      ]
     },
     "execution_count": 2,
     "metadata": {},
     "output_type": "execute_result"
    }
   ],
   "source": [
    "python_version()"
   ]
  },
  {
   "cell_type": "code",
   "execution_count": 3,
   "id": "c9ed86f1",
   "metadata": {
    "execution": {
     "iopub.execute_input": "2024-03-29T00:05:11.063980Z",
     "iopub.status.busy": "2024-03-29T00:05:11.063548Z",
     "iopub.status.idle": "2024-03-29T00:05:11.068606Z",
     "shell.execute_reply": "2024-03-29T00:05:11.067478Z"
    },
    "papermill": {
     "duration": 0.016072,
     "end_time": "2024-03-29T00:05:11.071524",
     "exception": false,
     "start_time": "2024-03-29T00:05:11.055452",
     "status": "completed"
    },
    "tags": []
   },
   "outputs": [
    {
     "name": "stdout",
     "output_type": "stream",
     "text": [
      "Bye bye, World!\n"
     ]
    }
   ],
   "source": [
    "print('Bye bye, World!')"
   ]
  },
  {
   "cell_type": "markdown",
   "id": "4ad6470e",
   "metadata": {
    "papermill": {
     "duration": 0.006604,
     "end_time": "2024-03-29T00:05:11.085208",
     "exception": false,
     "start_time": "2024-03-29T00:05:11.078604",
     "status": "completed"
    },
    "tags": []
   },
   "source": [
    "## Operadores Aritméticos"
   ]
  },
  {
   "cell_type": "code",
   "execution_count": 4,
   "id": "5cd7ac17",
   "metadata": {
    "execution": {
     "iopub.execute_input": "2024-03-29T00:05:11.101243Z",
     "iopub.status.busy": "2024-03-29T00:05:11.100829Z",
     "iopub.status.idle": "2024-03-29T00:05:11.106369Z",
     "shell.execute_reply": "2024-03-29T00:05:11.105567Z"
    },
    "papermill": {
     "duration": 0.016005,
     "end_time": "2024-03-29T00:05:11.108360",
     "exception": false,
     "start_time": "2024-03-29T00:05:11.092355",
     "status": "completed"
    },
    "tags": []
   },
   "outputs": [
    {
     "data": {
      "text/plain": [
       "2"
      ]
     },
     "execution_count": 4,
     "metadata": {},
     "output_type": "execute_result"
    }
   ],
   "source": [
    "# Adição\n",
    "1 + 1"
   ]
  },
  {
   "cell_type": "code",
   "execution_count": 5,
   "id": "33bd121f",
   "metadata": {
    "execution": {
     "iopub.execute_input": "2024-03-29T00:05:11.123711Z",
     "iopub.status.busy": "2024-03-29T00:05:11.123370Z",
     "iopub.status.idle": "2024-03-29T00:05:11.129159Z",
     "shell.execute_reply": "2024-03-29T00:05:11.127961Z"
    },
    "papermill": {
     "duration": 0.016561,
     "end_time": "2024-03-29T00:05:11.131732",
     "exception": false,
     "start_time": "2024-03-29T00:05:11.115171",
     "status": "completed"
    },
    "tags": []
   },
   "outputs": [
    {
     "data": {
      "text/plain": [
       "1"
      ]
     },
     "execution_count": 5,
     "metadata": {},
     "output_type": "execute_result"
    }
   ],
   "source": [
    "# Subtração\n",
    "2 - 1"
   ]
  },
  {
   "cell_type": "code",
   "execution_count": 6,
   "id": "a489a0b9",
   "metadata": {
    "execution": {
     "iopub.execute_input": "2024-03-29T00:05:11.151567Z",
     "iopub.status.busy": "2024-03-29T00:05:11.150400Z",
     "iopub.status.idle": "2024-03-29T00:05:11.156857Z",
     "shell.execute_reply": "2024-03-29T00:05:11.156108Z"
    },
    "papermill": {
     "duration": 0.018313,
     "end_time": "2024-03-29T00:05:11.158852",
     "exception": false,
     "start_time": "2024-03-29T00:05:11.140539",
     "status": "completed"
    },
    "tags": []
   },
   "outputs": [
    {
     "data": {
      "text/plain": [
       "4"
      ]
     },
     "execution_count": 6,
     "metadata": {},
     "output_type": "execute_result"
    }
   ],
   "source": [
    "# Multiplicação\n",
    "2 * 2"
   ]
  },
  {
   "cell_type": "code",
   "execution_count": 7,
   "id": "dabaab14",
   "metadata": {
    "execution": {
     "iopub.execute_input": "2024-03-29T00:05:11.175941Z",
     "iopub.status.busy": "2024-03-29T00:05:11.174770Z",
     "iopub.status.idle": "2024-03-29T00:05:11.181454Z",
     "shell.execute_reply": "2024-03-29T00:05:11.180637Z"
    },
    "papermill": {
     "duration": 0.0177,
     "end_time": "2024-03-29T00:05:11.183553",
     "exception": false,
     "start_time": "2024-03-29T00:05:11.165853",
     "status": "completed"
    },
    "tags": []
   },
   "outputs": [
    {
     "data": {
      "text/plain": [
       "1.5"
      ]
     },
     "execution_count": 7,
     "metadata": {},
     "output_type": "execute_result"
    }
   ],
   "source": [
    "# Divisão\n",
    "3 / 2"
   ]
  },
  {
   "cell_type": "code",
   "execution_count": 8,
   "id": "5fe681b3",
   "metadata": {
    "execution": {
     "iopub.execute_input": "2024-03-29T00:05:11.201070Z",
     "iopub.status.busy": "2024-03-29T00:05:11.200416Z",
     "iopub.status.idle": "2024-03-29T00:05:11.206036Z",
     "shell.execute_reply": "2024-03-29T00:05:11.204973Z"
    },
    "papermill": {
     "duration": 0.017337,
     "end_time": "2024-03-29T00:05:11.208267",
     "exception": false,
     "start_time": "2024-03-29T00:05:11.190930",
     "status": "completed"
    },
    "tags": []
   },
   "outputs": [
    {
     "data": {
      "text/plain": [
       "16"
      ]
     },
     "execution_count": 8,
     "metadata": {},
     "output_type": "execute_result"
    }
   ],
   "source": [
    "# Potência\n",
    "4 ** 2"
   ]
  },
  {
   "cell_type": "markdown",
   "id": "a59f9a70",
   "metadata": {
    "papermill": {
     "duration": 0.007223,
     "end_time": "2024-03-29T00:05:11.223176",
     "exception": false,
     "start_time": "2024-03-29T00:05:11.215953",
     "status": "completed"
    },
    "tags": []
   },
   "source": [
    "## Tipos de Dados"
   ]
  },
  {
   "cell_type": "code",
   "execution_count": 9,
   "id": "77c52bad",
   "metadata": {
    "execution": {
     "iopub.execute_input": "2024-03-29T00:05:11.240073Z",
     "iopub.status.busy": "2024-03-29T00:05:11.238758Z",
     "iopub.status.idle": "2024-03-29T00:05:11.245067Z",
     "shell.execute_reply": "2024-03-29T00:05:11.244067Z"
    },
    "papermill": {
     "duration": 0.017019,
     "end_time": "2024-03-29T00:05:11.247387",
     "exception": false,
     "start_time": "2024-03-29T00:05:11.230368",
     "status": "completed"
    },
    "tags": []
   },
   "outputs": [
    {
     "data": {
      "text/plain": [
       "1"
      ]
     },
     "execution_count": 9,
     "metadata": {},
     "output_type": "execute_result"
    }
   ],
   "source": [
    "# Módulo (resto da divisão)\n",
    "10 % 3"
   ]
  },
  {
   "cell_type": "code",
   "execution_count": 10,
   "id": "f20a392f",
   "metadata": {
    "execution": {
     "iopub.execute_input": "2024-03-29T00:05:11.264113Z",
     "iopub.status.busy": "2024-03-29T00:05:11.263473Z",
     "iopub.status.idle": "2024-03-29T00:05:11.268745Z",
     "shell.execute_reply": "2024-03-29T00:05:11.268062Z"
    },
    "papermill": {
     "duration": 0.015956,
     "end_time": "2024-03-29T00:05:11.270950",
     "exception": false,
     "start_time": "2024-03-29T00:05:11.254994",
     "status": "completed"
    },
    "tags": []
   },
   "outputs": [
    {
     "data": {
      "text/plain": [
       "int"
      ]
     },
     "execution_count": 10,
     "metadata": {},
     "output_type": "execute_result"
    }
   ],
   "source": [
    "# Qual o tipo do (?) -> Inteiro\n",
    "type(5)"
   ]
  },
  {
   "cell_type": "code",
   "execution_count": 11,
   "id": "fb52a431",
   "metadata": {
    "execution": {
     "iopub.execute_input": "2024-03-29T00:05:11.289006Z",
     "iopub.status.busy": "2024-03-29T00:05:11.288279Z",
     "iopub.status.idle": "2024-03-29T00:05:11.294682Z",
     "shell.execute_reply": "2024-03-29T00:05:11.293675Z"
    },
    "papermill": {
     "duration": 0.017898,
     "end_time": "2024-03-29T00:05:11.296923",
     "exception": false,
     "start_time": "2024-03-29T00:05:11.279025",
     "status": "completed"
    },
    "tags": []
   },
   "outputs": [
    {
     "data": {
      "text/plain": [
       "float"
      ]
     },
     "execution_count": 11,
     "metadata": {},
     "output_type": "execute_result"
    }
   ],
   "source": [
    "# Qual o tipo do (?) -> Float - Decimal\n",
    "type(5.0)"
   ]
  },
  {
   "cell_type": "code",
   "execution_count": 12,
   "id": "83dc560f",
   "metadata": {
    "execution": {
     "iopub.execute_input": "2024-03-29T00:05:11.314192Z",
     "iopub.status.busy": "2024-03-29T00:05:11.313482Z",
     "iopub.status.idle": "2024-03-29T00:05:11.319341Z",
     "shell.execute_reply": "2024-03-29T00:05:11.318546Z"
    },
    "papermill": {
     "duration": 0.016801,
     "end_time": "2024-03-29T00:05:11.321345",
     "exception": false,
     "start_time": "2024-03-29T00:05:11.304544",
     "status": "completed"
    },
    "tags": []
   },
   "outputs": [
    {
     "data": {
      "text/plain": [
       "str"
      ]
     },
     "execution_count": 12,
     "metadata": {},
     "output_type": "execute_result"
    }
   ],
   "source": [
    "# Qual o tipo do (?) -> String\n",
    "a = 'Estudando Python!'\n",
    "type(a)"
   ]
  },
  {
   "cell_type": "markdown",
   "id": "086d51d6",
   "metadata": {
    "papermill": {
     "duration": 0.007301,
     "end_time": "2024-03-29T00:05:11.336551",
     "exception": false,
     "start_time": "2024-03-29T00:05:11.329250",
     "status": "completed"
    },
    "tags": []
   },
   "source": [
    "## Estruturas Condicionais"
   ]
  },
  {
   "cell_type": "code",
   "execution_count": 13,
   "id": "250aa176",
   "metadata": {
    "execution": {
     "iopub.execute_input": "2024-03-29T00:05:11.354686Z",
     "iopub.status.busy": "2024-03-29T00:05:11.354052Z",
     "iopub.status.idle": "2024-03-29T00:05:11.358866Z",
     "shell.execute_reply": "2024-03-29T00:05:11.357700Z"
    },
    "papermill": {
     "duration": 0.016783,
     "end_time": "2024-03-29T00:05:11.360968",
     "exception": false,
     "start_time": "2024-03-29T00:05:11.344185",
     "status": "completed"
    },
    "tags": []
   },
   "outputs": [
    {
     "name": "stdout",
     "output_type": "stream",
     "text": [
      "A sentença é verdadeira!\n"
     ]
    }
   ],
   "source": [
    "# Condicional if (Se)\n",
    "if 5 > 2:\n",
    "    print(\"A sentença é verdadeira!\")"
   ]
  },
  {
   "cell_type": "code",
   "execution_count": 14,
   "id": "a196bff9",
   "metadata": {
    "execution": {
     "iopub.execute_input": "2024-03-29T00:05:11.378830Z",
     "iopub.status.busy": "2024-03-29T00:05:11.378178Z",
     "iopub.status.idle": "2024-03-29T00:05:11.384473Z",
     "shell.execute_reply": "2024-03-29T00:05:11.383743Z"
    },
    "papermill": {
     "duration": 0.017659,
     "end_time": "2024-03-29T00:05:11.386443",
     "exception": false,
     "start_time": "2024-03-29T00:05:11.368784",
     "status": "completed"
    },
    "tags": []
   },
   "outputs": [
    {
     "name": "stdout",
     "output_type": "stream",
     "text": [
      "A sentença é falsa!\n"
     ]
    }
   ],
   "source": [
    "# Condicional if...else\n",
    "if 5 < 2:\n",
    "    print(\"A sentença é verdadeira!\")\n",
    "else:\n",
    "    print(\"A sentença é falsa!\")"
   ]
  },
  {
   "cell_type": "code",
   "execution_count": 15,
   "id": "49c68abf",
   "metadata": {
    "execution": {
     "iopub.execute_input": "2024-03-29T00:05:11.404276Z",
     "iopub.status.busy": "2024-03-29T00:05:11.403422Z",
     "iopub.status.idle": "2024-03-29T00:05:11.409987Z",
     "shell.execute_reply": "2024-03-29T00:05:11.408786Z"
    },
    "papermill": {
     "duration": 0.017693,
     "end_time": "2024-03-29T00:05:11.412146",
     "exception": false,
     "start_time": "2024-03-29T00:05:11.394453",
     "status": "completed"
    },
    "tags": []
   },
   "outputs": [
    {
     "name": "stdout",
     "output_type": "stream",
     "text": [
      "Hoje vai chover!\n"
     ]
    }
   ],
   "source": [
    "# Condicional if...else com variável\n",
    "dia = \"Quarta-feira\"\n",
    "if dia == \"Sexta-feira\":\n",
    "    print(\"Hoje fará sol!\")\n",
    "else:\n",
    "    print(\"Hoje vai chover!\")"
   ]
  },
  {
   "cell_type": "markdown",
   "id": "16b1935d",
   "metadata": {
    "papermill": {
     "duration": 0.00816,
     "end_time": "2024-03-29T00:05:11.428372",
     "exception": false,
     "start_time": "2024-03-29T00:05:11.420212",
     "status": "completed"
    },
    "tags": []
   },
   "source": [
    "## Manipulando Arquivos"
   ]
  },
  {
   "cell_type": "markdown",
   "id": "83f63aa0",
   "metadata": {
    "papermill": {
     "duration": 0.007632,
     "end_time": "2024-03-29T00:05:11.443951",
     "exception": false,
     "start_time": "2024-03-29T00:05:11.436319",
     "status": "completed"
    },
    "tags": []
   },
   "source": [
    "### Lendo Arquivos"
   ]
  },
  {
   "cell_type": "code",
   "execution_count": 16,
   "id": "f3954bb9",
   "metadata": {
    "execution": {
     "iopub.execute_input": "2024-03-29T00:05:11.462264Z",
     "iopub.status.busy": "2024-03-29T00:05:11.461841Z",
     "iopub.status.idle": "2024-03-29T00:05:11.469941Z",
     "shell.execute_reply": "2024-03-29T00:05:11.469054Z"
    },
    "papermill": {
     "duration": 0.020231,
     "end_time": "2024-03-29T00:05:11.472229",
     "exception": false,
     "start_time": "2024-03-29T00:05:11.451998",
     "status": "completed"
    },
    "tags": []
   },
   "outputs": [],
   "source": [
    "# Abrindo o arquivo para gravação\n",
    "a1 = open(\"/kaggle/input/arquivo-aula-4-lia-2024-1/Endereo_do_Github (1).txt\", \"r\")"
   ]
  },
  {
   "cell_type": "code",
   "execution_count": 17,
   "id": "e3d93fcb",
   "metadata": {
    "execution": {
     "iopub.execute_input": "2024-03-29T00:05:11.490922Z",
     "iopub.status.busy": "2024-03-29T00:05:11.490207Z",
     "iopub.status.idle": "2024-03-29T00:05:11.497058Z",
     "shell.execute_reply": "2024-03-29T00:05:11.496008Z"
    },
    "papermill": {
     "duration": 0.019163,
     "end_time": "2024-03-29T00:05:11.499483",
     "exception": false,
     "start_time": "2024-03-29T00:05:11.480320",
     "status": "completed"
    },
    "tags": []
   },
   "outputs": [
    {
     "name": "stdout",
     "output_type": "stream",
     "text": [
      "\n",
      "Toda a gestão de conteúdo desta disciplina será realizada diretamente no Github, no endereço abaixo:\n",
      "\n",
      "Repositório no Github:\n",
      "https://github.com/scadriano/lia1_2024_1\n"
     ]
    }
   ],
   "source": [
    "# Lendo o arquivo\n",
    "print(a1.read())"
   ]
  },
  {
   "cell_type": "markdown",
   "id": "f85f4ad2",
   "metadata": {
    "papermill": {
     "duration": 0.007749,
     "end_time": "2024-03-29T00:05:11.515515",
     "exception": false,
     "start_time": "2024-03-29T00:05:11.507766",
     "status": "completed"
    },
    "tags": []
   },
   "source": [
    "### Gravando arquivos (.txt)"
   ]
  },
  {
   "cell_type": "code",
   "execution_count": 18,
   "id": "6f266964",
   "metadata": {
    "execution": {
     "iopub.execute_input": "2024-03-29T00:05:11.534076Z",
     "iopub.status.busy": "2024-03-29T00:05:11.533409Z",
     "iopub.status.idle": "2024-03-29T00:05:11.538676Z",
     "shell.execute_reply": "2024-03-29T00:05:11.537848Z"
    },
    "papermill": {
     "duration": 0.017333,
     "end_time": "2024-03-29T00:05:11.540960",
     "exception": false,
     "start_time": "2024-03-29T00:05:11.523627",
     "status": "completed"
    },
    "tags": []
   },
   "outputs": [],
   "source": [
    "# Abrindo o arquivo para gravação\n",
    "a2 = open(\"/kaggle/working/arquivo2\", \"w\")\n"
   ]
  },
  {
   "cell_type": "code",
   "execution_count": 19,
   "id": "6dda46b2",
   "metadata": {
    "execution": {
     "iopub.execute_input": "2024-03-29T00:05:11.559584Z",
     "iopub.status.busy": "2024-03-29T00:05:11.558812Z",
     "iopub.status.idle": "2024-03-29T00:05:11.566009Z",
     "shell.execute_reply": "2024-03-29T00:05:11.564899Z"
    },
    "papermill": {
     "duration": 0.019478,
     "end_time": "2024-03-29T00:05:11.568463",
     "exception": false,
     "start_time": "2024-03-29T00:05:11.548985",
     "status": "completed"
    },
    "tags": []
   },
   "outputs": [
    {
     "data": {
      "text/plain": [
       "27"
      ]
     },
     "execution_count": 19,
     "metadata": {},
     "output_type": "execute_result"
    }
   ],
   "source": [
    "# Gravando no arquivo\n",
    "a2.write(\"Aprendendo Python em 2024/1\")"
   ]
  },
  {
   "cell_type": "code",
   "execution_count": 20,
   "id": "2f16b7b8",
   "metadata": {
    "execution": {
     "iopub.execute_input": "2024-03-29T00:05:11.587350Z",
     "iopub.status.busy": "2024-03-29T00:05:11.586985Z",
     "iopub.status.idle": "2024-03-29T00:05:11.592310Z",
     "shell.execute_reply": "2024-03-29T00:05:11.590496Z"
    },
    "papermill": {
     "duration": 0.017778,
     "end_time": "2024-03-29T00:05:11.594771",
     "exception": false,
     "start_time": "2024-03-29T00:05:11.576993",
     "status": "completed"
    },
    "tags": []
   },
   "outputs": [],
   "source": [
    "# Abrindo o arquivo para leitura\n",
    "a2 = open(\"/kaggle/working/arquivo2\", \"r\")"
   ]
  },
  {
   "cell_type": "code",
   "execution_count": 21,
   "id": "01a4aac5",
   "metadata": {
    "execution": {
     "iopub.execute_input": "2024-03-29T00:05:11.613557Z",
     "iopub.status.busy": "2024-03-29T00:05:11.612524Z",
     "iopub.status.idle": "2024-03-29T00:05:11.619552Z",
     "shell.execute_reply": "2024-03-29T00:05:11.618373Z"
    },
    "papermill": {
     "duration": 0.018702,
     "end_time": "2024-03-29T00:05:11.621841",
     "exception": false,
     "start_time": "2024-03-29T00:05:11.603139",
     "status": "completed"
    },
    "tags": []
   },
   "outputs": [
    {
     "name": "stdout",
     "output_type": "stream",
     "text": [
      "Aprendendo Python em 2024/1\n"
     ]
    }
   ],
   "source": [
    "# Imprimindo arquivo\n",
    "print(a2.read())"
   ]
  }
 ],
 "metadata": {
  "kaggle": {
   "accelerator": "none",
   "dataSources": [
    {
     "datasetId": 4680182,
     "sourceId": 7956852,
     "sourceType": "datasetVersion"
    },
    {
     "datasetId": 4680303,
     "sourceId": 7957013,
     "sourceType": "datasetVersion"
    }
   ],
   "dockerImageVersionId": 30673,
   "isGpuEnabled": false,
   "isInternetEnabled": false,
   "language": "python",
   "sourceType": "notebook"
  },
  "kernelspec": {
   "display_name": "Python 3",
   "language": "python",
   "name": "python3"
  },
  "language_info": {
   "codemirror_mode": {
    "name": "ipython",
    "version": 3
   },
   "file_extension": ".py",
   "mimetype": "text/x-python",
   "name": "python",
   "nbconvert_exporter": "python",
   "pygments_lexer": "ipython3",
   "version": "3.10.13"
  },
  "papermill": {
   "default_parameters": {},
   "duration": 3.968574,
   "end_time": "2024-03-29T00:05:12.052107",
   "environment_variables": {},
   "exception": null,
   "input_path": "__notebook__.ipynb",
   "output_path": "__notebook__.ipynb",
   "parameters": {},
   "start_time": "2024-03-29T00:05:08.083533",
   "version": "2.5.0"
  }
 },
 "nbformat": 4,
 "nbformat_minor": 5
}
